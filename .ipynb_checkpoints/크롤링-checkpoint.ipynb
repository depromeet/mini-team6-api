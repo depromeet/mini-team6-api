{
 "cells": [
  {
   "cell_type": "code",
   "execution_count": 1,
   "metadata": {},
   "outputs": [
    {
     "name": "stdout",
     "output_type": "stream",
     "text": [
      "Collecting requests\n",
      "  Downloading requests-2.18.4-py2.py3-none-any.whl (88kB)\n",
      "\u001b[K    100% |████████████████████████████████| 92kB 218kB/s ta 0:00:01\n",
      "\u001b[?25hCollecting urllib3<1.23,>=1.21.1 (from requests)\n",
      "  Downloading urllib3-1.22-py2.py3-none-any.whl (132kB)\n",
      "\u001b[K    100% |████████████████████████████████| 133kB 302kB/s ta 0:00:01\n",
      "\u001b[?25hCollecting certifi>=2017.4.17 (from requests)\n",
      "  Downloading certifi-2018.1.18-py2.py3-none-any.whl (151kB)\n",
      "\u001b[K    100% |████████████████████████████████| 153kB 395kB/s ta 0:00:01\n",
      "\u001b[?25hCollecting chardet<3.1.0,>=3.0.2 (from requests)\n",
      "  Downloading chardet-3.0.4-py2.py3-none-any.whl (133kB)\n",
      "\u001b[K    100% |████████████████████████████████| 143kB 352kB/s ta 0:00:01\n",
      "\u001b[?25hCollecting idna<2.7,>=2.5 (from requests)\n",
      "  Downloading idna-2.6-py2.py3-none-any.whl (56kB)\n",
      "\u001b[K    100% |████████████████████████████████| 61kB 221kB/s ta 0:00:01\n",
      "\u001b[?25hInstalling collected packages: urllib3, certifi, chardet, idna, requests\n",
      "Successfully installed certifi-2018.1.18 chardet-3.0.4 idna-2.6 requests-2.18.4 urllib3-1.22\n"
     ]
    }
   ],
   "source": [
    "!pip install requests"
   ]
  },
  {
   "cell_type": "code",
   "execution_count": 18,
   "metadata": {},
   "outputs": [
    {
     "name": "stdout",
     "output_type": "stream",
     "text": [
      "Collecting bs4\n",
      "  Downloading bs4-0.0.1.tar.gz\n",
      "Collecting beautifulsoup4 (from bs4)\n",
      "  Downloading beautifulsoup4-4.6.0-py3-none-any.whl (86kB)\n",
      "\u001b[K    100% |████████████████████████████████| 92kB 139kB/s ta 0:00:01\n",
      "\u001b[?25hInstalling collected packages: beautifulsoup4, bs4\n",
      "  Running setup.py install for bs4 ... \u001b[?25ldone\n",
      "\u001b[?25hSuccessfully installed beautifulsoup4-4.6.0 bs4-0.0.1\n"
     ]
    }
   ],
   "source": [
    "!pip install bs4"
   ]
  },
  {
   "cell_type": "code",
   "execution_count": 2,
   "metadata": {},
   "outputs": [],
   "source": [
    "url = 'https://search.naver.com/search.naver?where=nexearch&sm=tab_etc&query=%EC%84%9C%EC%9A%B8%20%EC%B1%84%EC%86%8C%EB%A5%98%20%EC%86%8C%EB%A7%A4%EA%B0%80'"
   ]
  },
  {
   "cell_type": "code",
   "execution_count": 8,
   "metadata": {},
   "outputs": [],
   "source": [
    "url = 'https://search.naver.com/search.naver?where=nexearch&sm=tab_etc&query={}'"
   ]
  },
  {
   "cell_type": "code",
   "execution_count": 7,
   "metadata": {},
   "outputs": [
    {
     "data": {
      "text/plain": [
       "'\\nffff\\n'"
      ]
     },
     "execution_count": 7,
     "metadata": {},
     "output_type": "execute_result"
    }
   ],
   "source": [
    "url"
   ]
  },
  {
   "cell_type": "code",
   "execution_count": 131,
   "metadata": {},
   "outputs": [],
   "source": [
    "import requests\n",
    "from bs4 import BeautifulSoup\n",
    "\n",
    "import json\n",
    "import datetime"
   ]
  },
  {
   "cell_type": "code",
   "execution_count": 13,
   "metadata": {},
   "outputs": [],
   "source": [
    "response = requests.get('http://search.naver.com/search.naver?where=nexearch&sm=tab_etc&query=%EC%84%9C%EC%9A%B8%20%EC%B1%84%EC%86%8C%EB%A5%98%20%EC%86%8C%EB%A7%A4%EA%B0%80')"
   ]
  },
  {
   "cell_type": "code",
   "execution_count": 154,
   "metadata": {},
   "outputs": [
    {
     "name": "stdout",
     "output_type": "stream",
     "text": [
      "[{'name': '감자', 'unit': 'kg', 'price': 7220, 'date': '2018-04-04'}, {'name': '고구마', 'unit': 'kg', 'price': 6490, 'date': '2018-04-04'}, {'name': '고춧가루', 'unit': '봉', 'price': 41800, 'date': '2018-04-04'}, {'name': '당근', 'unit': 'kg', 'price': 3300, 'date': '2018-04-04'}, {'name': '마늘', 'unit': 'kg', 'price': 10880, 'date': '2018-04-04'}, {'name': '무', 'unit': '개', 'price': 2690, 'date': '2018-04-04'}, {'name': '배추', 'unit': '통', 'price': 3790, 'date': '2018-04-04'}, {'name': '버섯', 'unit': '100g', 'price': 2330, 'date': '2018-04-04'}, {'name': '상추', 'unit': '100g', 'price': 794, 'date': '2018-04-04'}, {'name': '시금치', 'unit': '한단', 'price': 1750, 'date': '2018-04-04'}, {'name': '양파', 'unit': 'kg', 'price': 2000, 'date': '2018-04-04'}, {'name': '오이', 'unit': '개', 'price': 1100, 'date': '2018-04-04'}, {'name': '콩나물', 'unit': '봉', 'price': 2190, 'date': '2018-04-04'}, {'name': '토마토', 'unit': 'kg', 'price': 5000, 'date': '2018-04-04'}, {'name': '파', 'unit': '단', 'price': 2380, 'date': '2018-04-04'}, {'name': '풋고추', 'unit': 'kg', 'price': 13270, 'date': '2018-04-04'}, {'name': '호박', 'unit': '개', 'price': 2280, 'date': '2018-04-04'}]\n"
     ]
    }
   ],
   "source": [
    "import json\n",
    "import datetime\n",
    "\n",
    "from bs4 import BeautifulSoup\n",
    "import requests\n",
    "\n",
    "def crawling_result():\n",
    "    #crawling\n",
    "    url = 'http://search.naver.com/search.naver?where=nexearch&sm=tab_etc&query=%EC%84%9C%EC%9A%B8%20%EC%B1%84%EC%86%8C%EB%A5%98%20%EC%86%8C%EB%A7%A4%EA%B0%80'\n",
    "    u_a = \"Mozilla/5.0 (X11; Linux x86_64) AppleWebKit/537.36 (KHTML, like Gecko) Chrome/48.0.2564.82 Safari/537.36\"\n",
    "    response = requests.get(url, headers={\"USER-AGENT\":u_a})\n",
    "    soup = BeautifulSoup(response.text, 'html.parser')\n",
    "\n",
    "    #parsing date\n",
    "    date = soup.find(\"span\",{\"class\":\"more\"})\n",
    "    result_date = date.text.split(\" \")[0]\n",
    "    result_date = result_date.replace('.',\"-\")[:-1]\n",
    "\n",
    "    #parsing contents\n",
    "    contents = soup.find(\"div\",{\"class\": \"detail\"})\n",
    "    contents_table = contents.find(\"table\",{\"class\":\"list_over\"})\n",
    "    contents_table_tbody = contents_table.find(\"tbody\")\n",
    "\n",
    "    tr_all = contents_table_tbody.findAll(\"td\")\n",
    "\n",
    "    cnt = 0\n",
    "    result = []\n",
    "    component = {}\n",
    "    name = ''\n",
    "\n",
    "    for c in tr_all:\n",
    "        if cnt % 4 == 0:\n",
    "            component[\"name\"]=c.text\n",
    "\n",
    "        elif cnt % 4 == 1:\n",
    "            name_list = c.text.split(\"/\")\n",
    "            component[\"unit\"]= name_list[1].strip()\n",
    "\n",
    "        elif cnt % 4 == 2:\n",
    "            component[\"price\"]= int(c.text.replace(',',''))\n",
    "\n",
    "        elif cnt % 4 == 3:\n",
    "            component[\"date\"]=result_date\n",
    "            result.append(component)\n",
    "            component ={}\n",
    "\n",
    "        cnt = cnt + 1\n",
    "        \n",
    "    return result\n",
    "\n",
    "\n",
    "print(crawling_result())"
   ]
  },
  {
   "cell_type": "code",
   "execution_count": 132,
   "metadata": {},
   "outputs": [
    {
     "data": {
      "text/plain": [
       "datetime.datetime(2018, 4, 7, 15, 16, 18, 907083)"
      ]
     },
     "execution_count": 132,
     "metadata": {},
     "output_type": "execute_result"
    }
   ],
   "source": [
    "datetime.date"
   ]
  },
  {
   "cell_type": "code",
   "execution_count": 83,
   "metadata": {},
   "outputs": [
    {
     "data": {
      "text/plain": [
       "0"
      ]
     },
     "execution_count": 83,
     "metadata": {},
     "output_type": "execute_result"
    }
   ],
   "source": [
    "0 % 3"
   ]
  },
  {
   "cell_type": "code",
   "execution_count": 71,
   "metadata": {},
   "outputs": [],
   "source": [
    "result = {}\n",
    "\n"
   ]
  },
  {
   "cell_type": "code",
   "execution_count": 74,
   "metadata": {},
   "outputs": [
    {
     "data": {
      "text/plain": [
       "{'kkk': 'kk'}"
      ]
     },
     "execution_count": 74,
     "metadata": {},
     "output_type": "execute_result"
    }
   ],
   "source": [
    "result['kkk'] = 'kk'\n",
    "\n",
    "result"
   ]
  },
  {
   "cell_type": "code",
   "execution_count": 26,
   "metadata": {},
   "outputs": [
    {
     "name": "stdout",
     "output_type": "stream",
     "text": [
      "Python 3.6.0\r\n"
     ]
    }
   ],
   "source": [
    "!python3 --version"
   ]
  },
  {
   "cell_type": "code",
   "execution_count": 27,
   "metadata": {},
   "outputs": [],
   "source": [
    "k = \"kwon taeHYougn\""
   ]
  },
  {
   "cell_type": "code",
   "execution_count": 28,
   "metadata": {},
   "outputs": [
    {
     "data": {
      "text/plain": [
       "'kwon taeHYougn'"
      ]
     },
     "execution_count": 28,
     "metadata": {},
     "output_type": "execute_result"
    }
   ],
   "source": [
    "k"
   ]
  },
  {
   "cell_type": "code",
   "execution_count": 148,
   "metadata": {},
   "outputs": [
    {
     "data": {
      "text/plain": [
       "'2018-04-04'"
      ]
     },
     "execution_count": 148,
     "metadata": {},
     "output_type": "execute_result"
    }
   ],
   "source": [
    "result_date.replace('.',\"-\")[:-1]"
   ]
  },
  {
   "cell_type": "code",
   "execution_count": 30,
   "metadata": {},
   "outputs": [
    {
     "data": {
      "text/plain": [
       "'\\nddd\\nddd\\nddd\\n\\n\\n'"
      ]
     },
     "execution_count": 30,
     "metadata": {},
     "output_type": "execute_result"
    }
   ],
   "source": [
    "k"
   ]
  },
  {
   "cell_type": "code",
   "execution_count": 31,
   "metadata": {},
   "outputs": [
    {
     "name": "stdout",
     "output_type": "stream",
     "text": [
      "\n",
      "ddd\n",
      "ddd\n",
      "ddd\n",
      "\n",
      "\n",
      "\n"
     ]
    }
   ],
   "source": [
    "print(k)"
   ]
  },
  {
   "cell_type": "code",
   "execution_count": null,
   "metadata": {},
   "outputs": [],
   "source": []
  }
 ],
 "metadata": {
  "kernelspec": {
   "display_name": "Python 3",
   "language": "python",
   "name": "python3"
  },
  "language_info": {
   "codemirror_mode": {
    "name": "ipython",
    "version": 3
   },
   "file_extension": ".py",
   "mimetype": "text/x-python",
   "name": "python",
   "nbconvert_exporter": "python",
   "pygments_lexer": "ipython3",
   "version": "3.6.0"
  }
 },
 "nbformat": 4,
 "nbformat_minor": 2
}
